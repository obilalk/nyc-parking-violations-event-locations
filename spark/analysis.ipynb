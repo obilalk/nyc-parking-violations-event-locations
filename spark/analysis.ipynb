{
 "cells": [
  {
   "cell_type": "code",
   "execution_count": null,
   "id": "b9762be3-a069-4c6d-b495-d9e7b19a9681",
   "metadata": {},
   "outputs": [],
   "source": [
    "pip install \"jupyterlab>=3\" \"ipywidgets>=7.6\"\n",
    "pip install -U kaleido\n",
    "pip install py4j\n",
    "pip install plotly"
   ]
  },
  {
   "cell_type": "code",
   "execution_count": 6,
   "id": "48e53707-fc59-4c5d-ac6d-3d7fc6f3dc40",
   "metadata": {},
   "outputs": [],
   "source": [
    "\n",
    "from pyspark.conf import SparkConf\n",
    "from pyspark.sql import SparkSession\n",
    "from config import *\n",
    "from pyspark.sql.functions import to_date\n",
    "import plotly.express as px\n",
    "import plotly.io as pio\n",
    "from plotly.subplots import make_subplots\n",
    "import plotly.graph_objects as go\n",
    "from py4j.protocol import Py4JJavaError\n",
    "from pyspark.sql.functions import from_unixtime,unix_timestamp\n"
   ]
  },
  {
   "cell_type": "code",
   "execution_count": 7,
   "id": "d2710cbc-4adf-42f5-a7f2-6879bdb3b7a2",
   "metadata": {},
   "outputs": [],
   "source": [
    "sparkSession =(SparkSession\n",
    "                .builder\n",
    "                .master(\"local\")\n",
    "                .appName('event-violation')\n",
    "                .enableHiveSupport()\n",
    "                .config(\"spark.sql.warehouse.dir\", warehouse_dir)\n",
    "                .getOrCreate()\n",
    "              ) "
   ]
  },
  {
   "cell_type": "code",
   "execution_count": null,
   "id": "965bf523-5493-47e0-8a21-f9a7c8eba173",
   "metadata": {},
   "outputs": [],
   "source": []
  },
  {
   "cell_type": "code",
   "execution_count": 3,
   "id": "ba7522fb-7be3-4b08-8227-b11d205b1afd",
   "metadata": {},
   "outputs": [],
   "source": [
    "event_listing=sparkSession.read.csv(base_path+event_listing_path,header=True)\n",
    "event_locations=sparkSession.read.csv(base_path+event_locations_path,header=True)\n",
    "event_listing_columns=['event_id', 'date']\n",
    "event_locations_columns=['event_id', 'lat', 'long', 'borough', 'accessible']\n",
    "event_table=event_locations[event_locations_columns].join(event_listing[event_listing_columns],how=\"inner\",on=\"event_id\") \\\n",
    "    .na.fill({\"accessible\":4}) \\\n",
    "    .replace({\"X\":\"BX\",\"M\":\"NY\",\"B\":\"K\"},subset=[\"borough\"]) \n",
    "event_table=event_table.withColumn(\"accessible\",event_table.accessible.cast(\"int\")) \\\n",
    "    .withColumn(\"long\",event_table.long.cast(\"double\")) \\\n",
    "    .withColumn(\"lat\",event_table.lat.cast(\"double\")) \\\n",
    "    .withColumn(\"date\",to_date(event_table.date,\"MM/dd/yyyy\")) \\\n",
    "    .na.drop(subset=[\"date\",\"borough\"]) \\\n",
    "    .orderBy(\"date\")\n",
    "event_table.write.saveAsTable(\"event_table\")\n",
    "last_date=event_table.orderBy(event_table.date.desc()).collect()[0]\n",
    "first_date=event_table.orderBy(event_table.date.asc()).collect()[0]"
   ]
  },
  {
   "cell_type": "code",
   "execution_count": null,
   "id": "b90c27c9-09ba-48ee-b23a-402b17f21a9e",
   "metadata": {},
   "outputs": [],
   "source": []
  },
  {
   "cell_type": "code",
   "execution_count": 4,
   "id": "85a57793-207f-43e4-8ad2-1e22ffe8bd59",
   "metadata": {},
   "outputs": [],
   "source": [
    "parking_violations_columns_replaced=['Issue_Date','Violation_County','PLATE_TYPE','VIOLATION_CODE','Violation_Time','Summons_Number']\n",
    "parking_violations_columns=['Issue Date','Violation County','PLATE TYPE','Violation Code','Violation Time','Summons Number']\n",
    "test_result={}\n",
    "for year in range(2014,2024):\n",
    "    try:\n",
    "        parking_violations=sparkSession.read.csv(base_path+parking_violations_path+str(year)+\".csv\",header=True)\n",
    "\n",
    "        parking_violations=parking_violations[parking_violations_columns]\n",
    "        for i in range(len(parking_violations_columns)):\n",
    "                parking_violations=parking_violations.withColumnRenamed(parking_violations_columns[i],parking_violations_columns_replaced[i])\n",
    "        parking_violations=parking_violations.withColumn(\"Issue_Date\",to_date(parking_violations.Issue_Date,\"MM/dd/yyyy\"))\n",
    "        parking_violations=parking_violations.withColumn(\"Summons_Number\",parking_violations.Summons_Number.cast(\"int\"))\n",
    "        parking_violations=parking_violations.filter((parking_violations.Issue_Date>=first_date.date)&(parking_violations.Issue_Date<last_date.date) \\\n",
    "                                                    &(parking_violations.Violation_Time.isNotNull())&(parking_violations.PLATE_TYPE.isin(registration_class_code)) \\\n",
    "                                                     &(parking_violations.VIOLATION_CODE.isin(violation_code))) \\\n",
    "            .na.drop(subset=[\"Issue_Date\",\"Violation_County\"]) \\\n",
    "            .orderBy(\"Issue_Date\")\n",
    "        test_result[year]=parking_violations.count()\n",
    "        parking_violations=parking_violations[['Summons_Number','Violation_County','Issue_Date']]        \n",
    "        if year==2014:\n",
    "            parking_violations.write.saveAsTable(\"parking_violations\")\n",
    "        parking_violations.write.mode('append').saveAsTable(\"parking_violations\")\n",
    "    except Py4JJavaError as e:\n",
    "        parking_violations=sparkSession.read.csv(base_path+parking_violations_path+str(year)+\".csv\",header=True)\n",
    "        parking_violations=parking_violations[parking_violations_columns]\n",
    "        for i in range(len(parking_violations_columns)):\n",
    "                parking_violations=parking_violations.withColumnRenamed(parking_violations_columns[i],parking_violations_columns_replaced[i])\n",
    "        parking_violations=parking_violations.withColumn(\"Issue_Date\",from_unixtime(unix_timestamp(parking_violations.Issue_Date,\"MM/dd/yyyy hh:mm:ss a\"),'yyyy-MM-dd').cast('date'))\n",
    "        parking_violations=parking_violations.withColumn(\"Summons_Number\",parking_violations.Summons_Number.cast(\"int\"))\n",
    "        parking_violations=parking_violations.filter((parking_violations.Issue_Date>=first_date.date)&(parking_violations.Issue_Date<last_date.date) \\\n",
    "                                                    &(parking_violations.Violation_Time.isNotNull())&(parking_violations.PLATE_TYPE.isin(registration_class_code)) \\\n",
    "                                                     &(parking_violations.VIOLATION_CODE.isin(violation_code))) \\\n",
    "            .na.drop(subset=[\"Issue_Date\",\"Violation_County\"]) \\\n",
    "            .orderBy(\"Issue_Date\")\n",
    "        test_result[year]=parking_violations.count()\n",
    "        parking_violations=parking_violations[['Summons_Number','Violation_County','Issue_Date']]\n",
    "        parking_violations.write.mode('append').saveAsTable(\"parking_violations\")"
   ]
  },
  {
   "cell_type": "code",
   "execution_count": 66,
   "id": "93df66d5-051e-4a5c-ae3c-8e5fe201062e",
   "metadata": {},
   "outputs": [
    {
     "data": {
      "text/plain": [
       "{2014: 8255672,\n",
       " 2015: 9801578,\n",
       " 2016: 8754229,\n",
       " 2017: 10608974,\n",
       " 2018: 11502154,\n",
       " 2019: 11223207,\n",
       " 2021: 166,\n",
       " 2022: 43,\n",
       " 2023: 6}"
      ]
     },
     "execution_count": 66,
     "metadata": {},
     "output_type": "execute_result"
    }
   ],
   "source": [
    "test_result"
   ]
  },
  {
   "cell_type": "code",
   "execution_count": 36,
   "id": "3568d2fd-a2de-401e-b4a5-8b155e866391",
   "metadata": {},
   "outputs": [],
   "source": [
    "detailed_proportion={}\n",
    "for year in range(2013,2019):\n",
    "    start_date=year\n",
    "    end_date=year+1\n",
    "    expr=str(start_date)+\"_\"+str(end_date)\n",
    "    count_query=f\"\"\"\n",
    "    select count(1) as cnt from parking_violations as p\n",
    "\n",
    "    left join event_table as e on p.Issue_Date=e.date \n",
    "        and p.Violation_County=e.borough\n",
    "    where p.Violation_County IN ('K','NY','Q','BX','R') and (p.Issue_Date>'{start_date}') and (p.Issue_Date<'{end_date}')\n",
    "    \"\"\"\n",
    "    query_join=f\"\"\"select count(1) as cnt from parking_violations as p\n",
    "\n",
    "    left join event_table as e on p.Issue_Date=e.date \n",
    "        and p.Violation_County=e.borough\n",
    "    where p.Violation_County IN ('K','NY','Q','BX','R') and (p.Issue_Date>'{start_date}') and (p.Issue_Date<'{end_date}') and (e.date is null) and (e.borough is null)\n",
    "    \"\"\"\n",
    "    joined_table=sparkSession.sql(query_join)\n",
    "    count_all=sparkSession.sql(count_query)\n",
    "    no_event=joined_table.select('cnt').rdd.flatMap(lambda x:x).collect()[0]\n",
    "    violation_occurred=count_all.select('cnt').rdd.flatMap(lambda x:x).collect()[0]\n",
    "    proportion_percentage=(no_event/violation_occurred)*100\n",
    "    detailed_proportion[expr]=[no_event,violation_occurred,round(proportion_percentage,2)]\n",
    "    "
   ]
  },
  {
   "cell_type": "code",
   "execution_count": 37,
   "id": "83d4ec06-fc67-4153-ab06-419cede7ec8e",
   "metadata": {},
   "outputs": [
    {
     "data": {
      "text/plain": [
       "{'2013_2014': [160945, 76417706, 0.21],\n",
       " '2014_2015': [487574, 116767811, 0.42],\n",
       " '2015_2016': [712108, 74266545, 0.96],\n",
       " '2016_2017': [451558, 67150022, 0.67],\n",
       " '2017_2018': [1118683, 72899610, 1.53],\n",
       " '2018_2019': [1174226, 89337914, 1.31]}"
      ]
     },
     "execution_count": 37,
     "metadata": {},
     "output_type": "execute_result"
    }
   ],
   "source": [
    "detailed_proportion"
   ]
  },
  {
   "cell_type": "code",
   "execution_count": 62,
   "id": "68624852-8927-492f-83b8-600fcc52b9fa",
   "metadata": {},
   "outputs": [],
   "source": [
    "for year in range(2013,2019):\n",
    "    start_date=year\n",
    "    end_date=year+1\n",
    "    expr=str(start_date)+\"_\"+str(end_date)\n",
    "    query_join=f\"\"\"select p.Issue_Date,count(*) as violation_observation from parking_violations as p\n",
    "\n",
    "    left join event_table as e on p.Issue_Date=e.date \n",
    "        and p.Violation_County=e.borough\n",
    "    where p.Violation_County IN ('K','NY','Q','BX','R') and (p.Issue_Date>'{start_date}') and (p.Issue_Date<'{end_date}')\n",
    "    group by p.Issue_Date\n",
    "    order by violation_observation\n",
    "    desc\n",
    "    \"\"\"\n",
    "    query_join_2=f\"\"\"select date,count(1) as event_observation  from event_table \n",
    "    where (date>'{start_date}') and (date<'{end_date}') \n",
    "    group by date\n",
    "    order by event_observation\n",
    "    desc\n",
    "    \"\"\"\n",
    "    joined_table=sparkSession.sql(query_join)\n",
    "    joined_table_event=sparkSession.sql(query_join_2)\n",
    "    vc=joined_table.toPandas()\n",
    "    ec=joined_table_event.toPandas()\n",
    "\n",
    "    fig=make_subplots(specs=[[{\"secondary_y\":True}]])\n",
    "    fig.add_trace(go.Scatter(x=vc.Issue_Date,y=vc.violation_observation,name=\"Violation Count\",mode='markers'),secondary_y= False)\n",
    "    fig.add_trace(go.Scatter(x=ec.date,y=ec.event_observation,name=\"Event Count\",mode='markers'),secondary_y=True)\n",
    "    fig.update_layout(title_text=\"Violation Observation vs. Event Observation between \"+str(start_date)+\"-\"+str(end_date))           \n",
    "    fig.update_xaxes(title_text=\"Date\")    \n",
    "    fig.update_yaxes(title_text=\"Violation Observation Count\",secondary_y=False)\n",
    "    fig.update_yaxes(title_text=\"Event Observation Count\",secondary_y=True)\n",
    "    pio.write_image(fig, \"/home/jovyan/work/spark/\"+expr+\".png\", format='png')"
   ]
  },
  {
   "cell_type": "code",
   "execution_count": 8,
   "id": "a9c6f5ed-bf4f-4245-a77d-92ce0cfc2ce9",
   "metadata": {},
   "outputs": [],
   "source": [
    "sparkSession.stop()"
   ]
  }
 ],
 "metadata": {
  "kernelspec": {
   "display_name": "Python 3.10.9 64-bit (microsoft store)",
   "language": "python",
   "name": "python3"
  },
  "language_info": {
   "codemirror_mode": {
    "name": "ipython",
    "version": 3
   },
   "file_extension": ".py",
   "mimetype": "text/x-python",
   "name": "python",
   "nbconvert_exporter": "python",
   "pygments_lexer": "ipython3",
   "version": "3.10.9"
  },
  "vscode": {
   "interpreter": {
    "hash": "5c5bfbf7abdb7fc6bb2d01b2fb052601781f3a3d9f5d7eb9d7cbc04bc150ddc3"
   }
  }
 },
 "nbformat": 4,
 "nbformat_minor": 5
}
